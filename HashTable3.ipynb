{
 "cells": [
  {
   "cell_type": "markdown",
   "id": "aboriginal-johnston",
   "metadata": {},
   "source": [
    "<span style='font-size:15pt'> Linear Probing 기법 (Close Hashing 기법 중 하나) </span>"
   ]
  },
  {
   "cell_type": "markdown",
   "id": "disturbed-trace",
   "metadata": {},
   "source": [
    "충돌 발생 시 다음 address의 해쉬 테이블의 맨 처음 빈 공간에 저장한다.\n",
    "\n",
    "=> 저장 공간 활용도를 높이기 위한 기법 ( 빈 공간에 채우는 것이기 때문) 장점임ㅇㅇ.\n",
    "\n",
    "\n",
    "<b>\n",
    "빈 공간 : 키 값은 있는데 데이터가 없다 or 아예 저장된 적이 없는 빈공간 \n",
    "\n",
    "=> 따라서 키 값은 있는데 데이터가 없는 빈공간의 경우 해당 키 값이 내가 넣고 싶은 데이터의 키 값과 동일한지를 확인하고 동일하면 넣고 아니면 \n",
    "넘어가야됨.\n",
    "\n",
    "아예 저장된 적이 없는 빈공간이면 그냥 무지성 추가 하면됨.\n",
    "    </b>"
   ]
  },
  {
   "cell_type": "markdown",
   "id": "chief-reply",
   "metadata": {},
   "source": [
    "# Code"
   ]
  },
  {
   "cell_type": "code",
   "execution_count": 15,
   "id": "expensive-vertical",
   "metadata": {
    "ExecuteTime": {
     "end_time": "2021-02-17T07:44:53.286729Z",
     "start_time": "2021-02-17T07:44:53.273521Z"
    }
   },
   "outputs": [],
   "source": [
    "hash_table = list([0 for i in range(8)])\n",
    "\n",
    "#hash 키 생성함수\n",
    "def get_key(data):\n",
    "    return hash(data)\n",
    "\n",
    "#주소값 생성함수\n",
    "def hash_function(key):\n",
    "    return key % 8\n",
    "\n",
    "#저장함수\n",
    "def save_data(data, value): \n",
    "    index_key = get_key(data) #충돌때문에 저장된건지 등등에 대한 확인을 위해 변수화.\n",
    "    hash_address = hash_function(index_key) #index번호. 8로 나누기 때문에 0~7일거임\n",
    "    if hash_table[hash_address] != 0: #자리에 이미 값이 들어있다면(default 값이 0이니까)\n",
    "        #데이터가 내가 원하는 데이터인지 확인해야됨\n",
    "        for index in range(hash_address ,len(hash_table)): # 지금 현 index부터 뒤로 움직이면서 확인\n",
    "            if hash_table[index] == 0: #빈 공간이면 충돌 데이터를 저장해라!! 핵심 코드\n",
    "                hash_table[index] = [index_key, value]\n",
    "                return\n",
    "            elif hash_table[index][0] == index_key: #동일한 키 다른 데이터 값이 이미 저장되어있다면 데이터를 업데이트해라.\n",
    "                hash_table[index][1] = value\n",
    "                return\n",
    "    else:\n",
    "        #만약 자리에 값이 없다면(해당 슬롯에 데이터가 저장된 적이 없다)\n",
    "        hash_table[hash_address] = [index_key, value]\n",
    "\n",
    "#값 읽어오는 함수\n",
    "def read_data(data):\n",
    "    index_key = get_key(data)\n",
    "    #읽어올 주소를 생성\n",
    "    hash_address = hash_function(index_key)\n",
    "    \n",
    "    \n",
    "    if hash_table[hash_address] != 0:\n",
    "        #데이터가 있다면 밑으로 내려가면서 빈자리 확인\n",
    "        for index in range(hash_address, len(hash_table)): #충돌이 일어난 부분부터 아래에 저장되어있을 것이기에 밑으로 검색\n",
    "            if hash_table[index] == 0: #index 0 번이 key일 때 : 한번도 저장된 적이 없는 데이터\n",
    "                return None\n",
    "            elif hash_table[index][0] == index_key: #우리가 원하는 찾는 값\n",
    "                return hash_table[index][1]\n",
    "    else:\n",
    "        return None"
   ]
  },
  {
   "cell_type": "code",
   "execution_count": 16,
   "id": "historical-fourth",
   "metadata": {
    "ExecuteTime": {
     "end_time": "2021-02-17T07:44:54.739069Z",
     "start_time": "2021-02-17T07:44:54.736098Z"
    }
   },
   "outputs": [
    {
     "name": "stdout",
     "output_type": "stream",
     "text": [
      "2\n",
      "2\n"
     ]
    }
   ],
   "source": [
    "#적용, 동일한 값의 두 값을 저장\n",
    "print(hash('dk') % 8)\n",
    "print(hash('dr') % 8)"
   ]
  },
  {
   "cell_type": "code",
   "execution_count": 17,
   "id": "worst-credit",
   "metadata": {
    "ExecuteTime": {
     "end_time": "2021-02-17T07:44:56.109278Z",
     "start_time": "2021-02-17T07:44:56.104970Z"
    }
   },
   "outputs": [
    {
     "data": {
      "text/plain": [
       "'202039393'"
      ]
     },
     "execution_count": 17,
     "metadata": {},
     "output_type": "execute_result"
    }
   ],
   "source": [
    "save_data('dk', '202039393')\n",
    "save_data('da', '33131313')\n",
    "read_data('dk')"
   ]
  }
 ],
 "metadata": {
  "hide_input": false,
  "kernelspec": {
   "display_name": "Python 3",
   "language": "python",
   "name": "python3"
  },
  "language_info": {
   "codemirror_mode": {
    "name": "ipython",
    "version": 3
   },
   "file_extension": ".py",
   "mimetype": "text/x-python",
   "name": "python",
   "nbconvert_exporter": "python",
   "pygments_lexer": "ipython3",
   "version": "3.8.6"
  },
  "toc": {
   "base_numbering": 1,
   "nav_menu": {},
   "number_sections": true,
   "sideBar": true,
   "skip_h1_title": false,
   "title_cell": "Table of Contents",
   "title_sidebar": "Contents",
   "toc_cell": false,
   "toc_position": {},
   "toc_section_display": true,
   "toc_window_display": false
  },
  "varInspector": {
   "cols": {
    "lenName": 16,
    "lenType": 16,
    "lenVar": 40
   },
   "kernels_config": {
    "python": {
     "delete_cmd_postfix": "",
     "delete_cmd_prefix": "del ",
     "library": "var_list.py",
     "varRefreshCmd": "print(var_dic_list())"
    },
    "r": {
     "delete_cmd_postfix": ") ",
     "delete_cmd_prefix": "rm(",
     "library": "var_list.r",
     "varRefreshCmd": "cat(var_dic_list()) "
    }
   },
   "types_to_exclude": [
    "module",
    "function",
    "builtin_function_or_method",
    "instance",
    "_Feature"
   ],
   "window_display": false
  }
 },
 "nbformat": 4,
 "nbformat_minor": 5
}
